{
 "cells": [
  {
   "cell_type": "markdown",
   "id": "b6c38652-6c0d-4b61-b9a9-f6ea14b1d3e7",
   "metadata": {},
   "source": [
    "# GEOG5990M Final Project\n",
    "\n",
    "Student ID number: 201702946\n",
    "\n"
   ]
  },
  {
   "cell_type": "markdown",
   "id": "114c3993-22e1-40e3-b5c5-42d0195b6280",
   "metadata": {},
   "source": [
    "## What are spatial patterns of socio-economic deprivation across Lower Super Output Areas (LSOAs) in Leeds and how can these patterns be best utilised to target a support programme?\n",
    "\n",
    "### Introduction\n",
    "\n",
    "Socio-economic deprivation exhibits significant spatial heterogeneity across urban neighborhoods with pockets of severe deprivation often concentrated in certain areas (Townsend, 1987). Identifying and understanding these spatial patterns is crucial for targeted interventions and resource allocation. This study aims to investigate the spatial distribution of socio-economic deprivation across LSOAs in Leeds, UK, utilizing census data from 2011. By employing multivariate techniques and spatial analysis methods, the research seeks to uncover the underlying patterns and identify the most deprived areas. Furthermore, it explores how these spatial insights can inform the design and implementation of support programs to effectively target and address the specific needs of the most disadvantaged communities (Talen and Anselin, 1998; Pampalon et al., 2009). The findings have the potential to guide policymakers and stakeholders in developing evidence-based strategies for tackling socio-economic inequalities and promoting inclusive urban development."
   ]
  },
  {
   "cell_type": "markdown",
   "id": "a61e04e1-d2a2-49be-870d-79068a00df89",
   "metadata": {},
   "source": [
    "#### Loading packages"
   ]
  },
  {
   "cell_type": "code",
   "execution_count": null,
   "id": "97164579-e372-447c-adee-f7dfd40359b4",
   "metadata": {},
   "outputs": [],
   "source": [
    "# importing required packages\n",
    "\n",
    "import pandas as pd                # for creating and handling dataframes\n",
    "import numpy as np                 # for numerical and scientific computing tasks\n",
    "import matplotlib.pyplot as plt    # for creating visualizations, data exploration, analysis and presentation\n",
    "import matplotlib.patheffects as path_effects   # for adding effects to text in Matplotlib plots\n",
    "import seaborn as sns              # for creating informative and visually appealing statistical graphics\n",
    "\n",
    "import geopandas as gpd            # for working with geospatial data\n",
    "import pyproj                      # for geospatial transformations and projections\n",
    "import contextily as ctx           # for fetching web map tiles for spatial visualizations.\n",
    "import geoplot as gplt             # for geospatial plotting\n",
    "import geoplot.crs as gcrs         # for setting coordinate reference systems\n",
    "import scipy.stats as stats        # for providing statistical analysis functions and distributions                                                                                                                                                                                                                                                                                                                                                                                                                                                                                                                                                                       \n",
    "\n",
    "from matplotlib_scalebar.scalebar import ScaleBar # for adding scale bars to plots.\n",
    "from sklearn.preprocessing import StandardScaler  # for Standardising features by removing mean and scaling\n",
    "\n",
    "import warnings\n",
    "warnings.filterwarnings('ignore')  # for suppressing warning messages\n"
   ]
  },
  {
   "cell_type": "markdown",
   "id": "3db67749-47fc-4f59-a1ec-2835ef8d2c03",
   "metadata": {},
   "source": [
    "#### Loading dataset \n",
    "Please note these datasets have been put together through this link and it is set to expire on 16/06/2024: https://leeds365-my.sharepoint.com/:f:/g/personal/gy23c2b_leeds_ac_uk/Eq7xR6dcWrRKgkgOtEe_AowBaTjYdYLDcf7WmHTydBINRQ?e=0FS6mj"
   ]
  },
  {
   "cell_type": "code",
   "execution_count": null,
   "id": "5e2f534e-682d-4cc5-bcdb-84a7d467ae58",
   "metadata": {},
   "outputs": [],
   "source": [
    "# Data of deprivation variables for Leeds Lower Super Output Areas\n",
    "# This is 2011 Census data sourced from https://www.nomisweb.co.uk/\n",
    "leeds_variables = pd.read_csv(\"C:/Users/Chifuniro Baluwa/Documents/LEEDS/SEM 2/Programming for GIA (GEOG5990M)/Assignment 2/Data/Deprivation-Variables-LSOA-2011-Census.csv\")\n",
    "\n",
    "# england_LSOA shapefile sourced from https://geoportal.statistics.gov.uk/\n",
    "england_LSOA = gpd.read_file(\"C:/Users/Chifuniro Baluwa/Documents/LEEDS/SEM 2/Programming for GIA (GEOG5990M)/Assignment 2/Data/Lower_layer_Super_Output_Areas_Dec_2011_Boundaries.geojson\")\n",
    "\n",
    "\n",
    "# Leeds Wards shapefile sourced from https://infuse.ukdataservice.ac.uk/\n",
    "leeds_wards = gpd.read_file(\"C:/Users/Chifuniro Baluwa/Documents/LEEDS\\SEM 2/Programming for GIA (GEOG5990M)/Assignment 2/Data/LeedsWards/LeedsWards.shp\")"
   ]
  },
  {
   "cell_type": "markdown",
   "id": "e2513e93-ba13-40ed-aac7-48faed4f292d",
   "metadata": {},
   "source": [
    "#### Justification of variable selection for Leeds socio-economic deprivation\n",
    "The variables selected here to show spatial patterns of socio-economic deprivation are based on Townsend indexes, which focus on fewer, more direct indicators of 'lack' or 'want' (Townsend et al., 1988). Townsend et al. (1988) recommend using no more than six variables to capture the key dimensions of deprivation. The six selected variables from the 2011 Census data for Leeds are:\n",
    "\n",
    "1. Unemployed: A high unemployment rate is a direct indicator of deprivation and lack of economic resources (Townsend et al., 1988; Norman, 2010).\n",
    "\n",
    "2. Households with No Cars: Car ownership is a marker of material deprivation and lack of mobility (Townsend et al., 1988; Norman, 2010).\n",
    "\n",
    "3. Overcrowded Households: Overcrowding is a direct measure of poor living conditions and lack of adequate housing (Townsend et al., 1988; Norman, 2010).\n",
    "\n",
    "4. Lone Parent Households: Lone parenthood is associated with higher risks of poverty and deprivation (Townsend et al., 1988; Norman, 2010).\n",
    "\n",
    "5. Low Social Class: Low occupational social class is a proxy for low income and economic deprivation (Townsend et al., 1988; Norman, 2010).\n",
    "\n",
    "6. Social Rented Housing: High levels of social housing are indicative of disadvantaged areas with concentrations of deprivation (Townsend et al., 1988; Norman, 2010)."
   ]
  },
  {
   "cell_type": "markdown",
   "id": "bad0dc81-9bc6-405c-a9ff-d3438501cdf1",
   "metadata": {},
   "source": [
    "### Data preprocessing"
   ]
  },
  {
   "cell_type": "markdown",
   "id": "a47595e6-8e27-4784-9ec3-c3169d826ee6",
   "metadata": {},
   "source": [
    "#### Getting to know the selected Leeds census socio-economic variables"
   ]
  },
  {
   "cell_type": "code",
   "execution_count": null,
   "id": "9ef211c7-b739-4e83-8c0c-f953aa32f009",
   "metadata": {},
   "outputs": [],
   "source": [
    "leeds_variables.head()    # Getting the picture of the census variables data set by looking at the first 5 rows\n",
    "\n",
    "                           # The code has displayed that the Leeds census socio-economic variables have 10 columns\n",
    "                           # and each value of the variable is assigned a Lower Super Output Area (LSOA) code"
   ]
  },
  {
   "cell_type": "code",
   "execution_count": null,
   "id": "2d61f530-3455-4782-9fbc-472439b6f445",
   "metadata": {},
   "outputs": [],
   "source": [
    "leeds_variables.index      # Getting to know the row index labels\n",
    "\n",
    "                           # The executed code indicates that there are 32844 rows in the Leeds variables,\n",
    "                           # starting at 0, stops after 891 entries and increases by a step of 1 for each row."
   ]
  },
  {
   "cell_type": "code",
   "execution_count": null,
   "id": "7d17bbf1-d188-447d-86fc-f8740b84f265",
   "metadata": {},
   "outputs": [],
   "source": [
    "leeds_variables.info()      # Getting the overall summary of the Leeds census variable dataset\n",
    "\n",
    "                           # Here it is noted that the data types for the Leeds census socio-economic variables are float and the LSOA Codes are object.\n",
    "                           # So, overall, the dataset has 32844 entries and has used 2.5+ MB memory."
   ]
  },
  {
   "cell_type": "code",
   "execution_count": null,
   "id": "0a49bb2c-6f8a-4fbe-b197-33adc30efa3e",
   "metadata": {},
   "outputs": [],
   "source": [
    "leeds_variables.describe()    # Understanding summary statistics for the numeric columns. \n",
    "                              # Knowing how much variability there is for these variables."
   ]
  },
  {
   "cell_type": "code",
   "execution_count": null,
   "id": "c67caef4-f987-462e-b915-da6cff05dfb7",
   "metadata": {},
   "outputs": [],
   "source": [
    "leeds_variables.isnull().sum() # Checking which columns have missing values and how many they are in the Leeds variables dataset\n",
    "\n",
    "                               # There are no missing values in the Leeds variables.\n",
    "                               # However, the zeroes shown for minimum in descriptive summary entail there are some rows with no values  "
   ]
  },
  {
   "cell_type": "code",
   "execution_count": null,
   "id": "8af662f5-6ca3-45e7-8256-66d42404631d",
   "metadata": {},
   "outputs": [],
   "source": [
    "leeds_variables.nunique()      # Checking for unique elements in the  dataset\n",
    "\n",
    "                               # The code returns unique values there are in each column of the leeds census variable dataset giving \n",
    "                               # information on the variety of data making up each feature."
   ]
  },
  {
   "cell_type": "markdown",
   "id": "010c00a2-f178-4d14-bd82-2f46645cd1e9",
   "metadata": {},
   "source": [
    "### Data Cleaning, Data Exploratory and Data Manipulation"
   ]
  },
  {
   "cell_type": "code",
   "execution_count": null,
   "id": "a14c4cab-378d-4f6b-b4e5-a9d59261ee45",
   "metadata": {},
   "outputs": [],
   "source": [
    "# A pre-requisite of calculating deprivation index requires data to be in percentages\n",
    "# Therefore, calculating percentages of Leeds socio-economic variabled\n",
    "\n",
    "leeds_variables['% unemployed'] = (leeds_variables['unemployed'] / leeds_variables['Persons']) * 100\n",
    "leeds_variables['% no car'] = (leeds_variables['nocar'] / leeds_variables['Persons']) * 100\n",
    "leeds_variables['% overcrowded'] = (leeds_variables['overcrowded'] / leeds_variables['Persons']) * 100\n",
    "leeds_variables['% lone parents'] = (leeds_variables['loneparents'] / leeds_variables['Persons']) * 100     # Calculating percentages for each variable\n",
    "leeds_variables['% low class'] = (leeds_variables['lowclass'] / leeds_variables['Persons']) * 100\n",
    "leeds_variables['% social rent'] = (leeds_variables['socialrent'] / leeds_variables['Persons']) * 100\n",
    "\n",
    "leeds_variables.head()    # Checking if the calculation has been performed \n"
   ]
  },
  {
   "cell_type": "code",
   "execution_count": null,
   "id": "b1ab81cf-3025-4d69-926e-3bb231e44185",
   "metadata": {},
   "outputs": [],
   "source": [
    "leeds_variables.info()  # Checking the data types for the generated percentages\n",
    "\n",
    "                        # The executed code indicate the datatype is in the right format"
   ]
  },
  {
   "cell_type": "code",
   "execution_count": null,
   "id": "a4ff956d-c5a8-45df-8bf8-b4d43de8046c",
   "metadata": {},
   "outputs": [],
   "source": [
    " # Rounding percentage leeds socio-economic variables to 2 decimal places for better visualisation.\n",
    "leeds_variables[['% unemployed','% no car',\n",
    "                 '% overcrowded','% lone parents',\n",
    "                 '% low class','% social rent']] = leeds_variables[['% unemployed','% no car',\n",
    "                                                                        '% overcrowded','% lone parents',\n",
    "                                                                        '% low class','% social rent']].round(2)\n",
    "\n",
    "leeds_variables.head()    # checking if the values have been rounded to 2 decimal places"
   ]
  },
  {
   "cell_type": "code",
   "execution_count": null,
   "id": "d5f8c158-11ff-4bd3-bc6f-50bc285f98f9",
   "metadata": {},
   "outputs": [],
   "source": [
    "# Dropping the columns of raw socio-economic variables as they will not be used in subsequence analysis\n",
    "\n",
    "leeds_variables.drop(columns =['Persons', 'unemployed','nocar', 'overcrowded', 'loneparents', 'lowclass', 'socialrent'],\n",
    "                     inplace=True)                                                                      # Dropping columns\n",
    "\n",
    "leeds_variables.head()  # Checking if the operation is successful"
   ]
  },
  {
   "cell_type": "markdown",
   "id": "c236ac8f-2dd3-467c-8e5a-ad6f85a24fbb",
   "metadata": {},
   "source": [
    "#### Explore the association between socio-economic variables "
   ]
  },
  {
   "cell_type": "code",
   "execution_count": null,
   "id": "9602b1f4-6c9e-4b69-a6a7-83ade435e713",
   "metadata": {},
   "outputs": [],
   "source": [
    "# plotting pairplot, adjust height so domain names fit on axis\n",
    "\n",
    "sns.pairplot(leeds_variables[['% unemployed', '% no car',\n",
    "                              '% overcrowded','% lone parents',    # Subsetting DataFrame to selected variables for pairplot\n",
    "                              '% low class', '% social rent']],   \n",
    "             palette='Dark2',  # Setting color palette\n",
    "             height=2) # Setting the height of each subplot"
   ]
  },
  {
   "cell_type": "markdown",
   "id": "e856c7cb-e474-4c89-9b24-cdab1504c67c",
   "metadata": {},
   "source": [
    "It is noted that there is a positive association among the socio-economic variables. "
   ]
  },
  {
   "cell_type": "markdown",
   "id": "791c0a29-dd72-4f1f-b03e-878151e9891c",
   "metadata": {},
   "source": [
    "#### Quantify the association between socio-economic variables using Spearman's rank correlation"
   ]
  },
  {
   "cell_type": "code",
   "execution_count": null,
   "id": "548ef1f2-bedc-4a50-9a7f-350c2932b9ab",
   "metadata": {},
   "outputs": [],
   "source": [
    "## Calculating Spearman's rank correlation to check how variables correlate to each other\n",
    "\n",
    "leeds_variables_corr = leeds_variables[['% unemployed', '% no car',\n",
    "                                        '% overcrowded', '% lone parents',\n",
    "                                        '% low class', '% social rent']].corr(method = 'spearman') # Calculating Spearman's correlation\n",
    "\n",
    "leeds_variables_corr   # checking the executed Spearman correlation"
   ]
  },
  {
   "cell_type": "markdown",
   "id": "050c0300-8f53-45e4-80a6-9d1c4ba1a363",
   "metadata": {},
   "source": [
    "#### Modelling Leeds socio-economic variables using Spearman's rank correlation"
   ]
  },
  {
   "cell_type": "code",
   "execution_count": null,
   "id": "1fcf22f0-02cc-45f1-b0e5-9df66f1cac28",
   "metadata": {},
   "outputs": [],
   "source": [
    "###### Visualising the Spearman's rank correlation of socio-economic variables\n",
    "\n",
    "fig, ax = plt.subplots(figsize=(8, 8))   # Defining plot size\n",
    "\n",
    "upper_triangle_mask = np.triu(np.ones_like(leeds_variables_corr))  # Defining mask to apply to upper right-hand corner of the plot\n",
    "\n",
    "# Plotting a heatmap of the correlation dataframe\n",
    "sns.heatmap(leeds_variables_corr, \n",
    "            annot=True,   # Annotating with Spearman's rank correlation values\n",
    "            cmap='RdBu',  # Defining color map cividis\n",
    "            vmin=-1,  # Defining minimum color on color bar\n",
    "            vmax=1,  # Defining maximum color on color bar\n",
    "            mask=upper_triangle_mask,  # Apply mask to upper triangle\n",
    "            cbar_kws={'label': \"Spearman's Rank Correlation\"},  # Labelling for color bar\n",
    "            ax=ax)  # Plotting on the defined axis\n",
    "\n",
    "ax.set_xlabel(\"Socio-economic Deprivation Variables\", fontsize=11) # Setting axis labels x with font size 11\n",
    "ax.set_ylabel(\"Socio-economic Deprivation Variables\", fontsize=11) # Setting axis labels y with font size 11\n",
    "\n",
    "ax.set_title('Correlation of Socio-economic Deprivation Variables', fontsize=14)  # Setting title with font size of 14\n",
    "\n",
    "plt.show() # Displaying the plot"
   ]
  },
  {
   "cell_type": "markdown",
   "id": "84bc5418-4c40-4564-8c51-18d7058fa5b7",
   "metadata": {},
   "source": [
    "A Spearman's rank correlation is chosen for modelling the association between socio-economic variables for LSOAs because:\n",
    "\n",
    "1. It is suitable for ordinal data, such as socio-economic deprivation variables that rank areas from most to least deprived.\n",
    "\n",
    "2. It is resistant to outliers, which is important when dealing with socio-economic data that may have extreme values in certain LSOAs.\n",
    "\n",
    "3. It does not assume normality of the variables, which is often violated in socio-economic data.\n",
    "\n",
    "These reasons are supported by Vyas and Kumaranayake (2006), who stated that non-parametric methods like Spearman's rank correlation are more appropriate for ordinal or non-normally distributed variables when describing associations."
   ]
  },
  {
   "cell_type": "markdown",
   "id": "f765deaf-edcc-4c7a-9e89-406a0dfce8a7",
   "metadata": {},
   "source": [
    "#### Standardising socio-economic variables"
   ]
  },
  {
   "cell_type": "code",
   "execution_count": null,
   "id": "ca384b15-bd85-4cf1-b490-635af6b4a470",
   "metadata": {},
   "outputs": [],
   "source": [
    "leeds_variables.describe()  # re-checking the summary statistics of leeds variables.\n",
    "\n",
    "                            #The derived descriptive statistics indicated that the variables are not on comparable scales, \n",
    "                            # they need to be standardised for the variables to be weighed the same when developing the deprivation index."
   ]
  },
  {
   "cell_type": "code",
   "execution_count": null,
   "id": "8ba27b1a-b5e9-4d5f-8b1b-7c1d590b2f2c",
   "metadata": {},
   "outputs": [],
   "source": [
    "# Displaying how variables look when unstandardised and not on a comparable scale\n",
    "\n",
    "socio_economic_variables = leeds_variables[['% unemployed', '% no car',\n",
    "                                            '% overcrowded', '% lone parents',  # Subsetting the DataFrame based on selected variables\n",
    "                                            '% low class', '% social rent']]\n",
    "\n",
    "# Plot boxplot\n",
    "plt.figure(figsize=(10, 8))  # Setting the size of the figure\n",
    "sns.boxplot(data=socio_economic_variables, showfliers=True)  # Creating a boxplot for the socio-economic variables, showing outliers\n",
    "   \n",
    "plt.title('Unstandardised Socio-economic Variables') # Setting the title of the plot\n",
    "plt.xlabel('Socio-economic variables') # Setting the label for the x-axis\n",
    "\n",
    "plt.grid(axis='y')  # Adding gridlines to y-axis\n",
    "\n",
    "plt.show()     # Displaying the plot"
   ]
  },
  {
   "cell_type": "code",
   "execution_count": null,
   "id": "1b53338c-61a2-4c20-8a5d-f3c2fbc9aace",
   "metadata": {},
   "outputs": [],
   "source": [
    "# Standardize the socio-economic variables - to make the variables be on the same comparable scale\n",
    "\n",
    "scaler = StandardScaler()   # Initialising StandardScaler object\n",
    "standardized_variables = scaler.fit_transform(socio_economic_variables) # Standardizing the socio-economic variables\n",
    "\n",
    "# Creating a DataFrame for standardized variables\n",
    "standardized_df = pd.DataFrame(standardized_variables, columns=socio_economic_variables.columns)\n",
    "\n",
    "# Adding standardized variables to the original DataFrame\n",
    "leeds_variables = pd.concat([leeds_variables, standardized_df.add_prefix('std_')], axis=1)\n",
    "\n",
    "leeds_variables.head() # checking if standardisation has been achieved and variables added to the original dataframe of leed variables"
   ]
  },
  {
   "cell_type": "code",
   "execution_count": null,
   "id": "6947f25e-9cd0-4dbb-a108-bdf49674110f",
   "metadata": {},
   "outputs": [],
   "source": [
    "### Plotting boxplot of standardized variables\n",
    "\n",
    "plt.figure(figsize=(10, 8))   # Setting the size of the figure\n",
    "sns.boxplot(data=standardized_df, showfliers=True)  # Creating a boxplot for the standardized socio-economic variables showing outlier\n",
    "\n",
    "plt.title('Standardized Socio-economic Variables')  # Setting the title of the plot\n",
    "plt.xlabel('Socio-economic variables')  # Setting the label for the x-axis\n",
    "\n",
    "plt.grid(axis='y')  # Adding gridlines to y-axis\n",
    "\n",
    "plt.show()  # Displaying the plot"
   ]
  },
  {
   "cell_type": "markdown",
   "id": "e2e346b1-cb53-4dfd-bf83-45ac30bb4bf1",
   "metadata": {},
   "source": [
    "The plot now shows that the variables are now on a comparable scale. \tPosiitve-scores can be interpreted as the value for the location is higher than the(nationa) average and negative values lower than averag (Noble et al., 2006).\r\n"
   ]
  },
  {
   "cell_type": "markdown",
   "id": "ff3a6468-57be-47f3-acfb-2d98b25e3b30",
   "metadata": {},
   "source": [
    "#### Combining standardised values to be a deprivation index"
   ]
  },
  {
   "cell_type": "code",
   "execution_count": null,
   "id": "4b254ed2-fed3-4179-935f-d6bc19eac8df",
   "metadata": {},
   "outputs": [],
   "source": [
    "#### Creating new variables of \"deprivation_score\"\n",
    "\n",
    "# Creating a column called \"deprivation_index\" calculated from standardised socio-economic variables\n",
    "leeds_variables['deprivation_index'] = leeds_variables['std_% unemployed'] + leeds_variables['std_% no car'] + leeds_variables['std_% overcrowded'] + leeds_variables['std_% lone parents'] + leeds_variables['std_% low class'] + leeds_variables['std_% social rent'] \n",
    "\n",
    "leeds_variables['deprivation_index'] = leeds_variables['deprivation_index'].round(2)  # Rounding deprivation index values to 2 decimal places\n",
    "\n",
    "leeds_variables.head()   # Checking if the operations have been executed"
   ]
  },
  {
   "cell_type": "code",
   "execution_count": null,
   "id": "48d8cfc4-738f-4bbd-b660-e5944497bca7",
   "metadata": {},
   "outputs": [],
   "source": [
    "## Dropping unnecessary columns from the Leeds variables before merging with Leeds shapefile\n",
    "\n",
    "leeds_variables.drop(columns =['LSOA_Name','lgd'], inplace=True) # Dropping duplicates or unnecessary columns\n",
    "\n",
    "leeds_variables.head()  # Checking if the operation is successful"
   ]
  },
  {
   "cell_type": "markdown",
   "id": "e1e647b8-8636-4c29-9494-2077b7bee6a6",
   "metadata": {},
   "source": [
    "#### Getting to know the geography of England Lower Super Output Area (LSOA)"
   ]
  },
  {
   "cell_type": "code",
   "execution_count": null,
   "id": "93ac785a-6fc1-4262-86cb-03c083cc3e5d",
   "metadata": {},
   "outputs": [],
   "source": [
    "england_LSOA.head() # Getting the picture of the england LSOA shapefile by looking at the first 5 rows\n",
    "\n",
    "                    # The code displayed that england_LSOA has 10 columns having LSOA codes and geometry."
   ]
  },
  {
   "cell_type": "code",
   "execution_count": null,
   "id": "f4772820-75a7-4c32-9502-2173947b713e",
   "metadata": {},
   "outputs": [],
   "source": [
    "england_LSOA.info() # Getting the overall summary of the england LSOA shapefile\n",
    "\n",
    "                    # Here it is noted that the data types for england LSOA has float, geometry, integer and string.\n",
    "                    # So, overall, the dataset has 34753 entries and has used 2.7+ MB memory."
   ]
  },
  {
   "cell_type": "code",
   "execution_count": null,
   "id": "c3122dbf-922f-41bc-a230-c7cb882fe5de",
   "metadata": {},
   "outputs": [],
   "source": [
    "england_LSOA.isnull().sum()  # Checking which columns have missing values and how many they are in the england LSOA shapefile\n",
    "\n",
    "                             # It shows there are no missing values in the england LSOA shapefile"
   ]
  },
  {
   "cell_type": "code",
   "execution_count": null,
   "id": "ce80a919-59cd-47b5-a76d-dfe2865e5a73",
   "metadata": {},
   "outputs": [],
   "source": [
    "england_LSOA.columns # Checking the columns of the england LSOA shapefile"
   ]
  },
  {
   "cell_type": "code",
   "execution_count": null,
   "id": "08eac145-2bfa-4e2c-bd7e-8a586d2d9df7",
   "metadata": {},
   "outputs": [],
   "source": [
    "print(england_LSOA.crs) #checking that the crs is for Great Britain"
   ]
  },
  {
   "cell_type": "markdown",
   "id": "68db5339-e13a-4b25-96f2-a854e882aa60",
   "metadata": {},
   "source": [
    "The CRS is for British National grid and suitable for further processing"
   ]
  },
  {
   "cell_type": "markdown",
   "id": "5ddfb29f-3450-41d2-b9da-1c02b4ba37a7",
   "metadata": {},
   "source": [
    "#### Clipping the England LSOA to the extent of Leeds "
   ]
  },
  {
   "cell_type": "code",
   "execution_count": null,
   "id": "88cf3d00-3b52-4b40-97ee-94f9e9dd49af",
   "metadata": {},
   "outputs": [],
   "source": [
    "# Select rows where 'LSOA11NM' column starts with 'Leeds' from the england LSOA shapafile\n",
    "leeds_LSOA = england_LSOA[england_LSOA['LSOA11NM'].str.startswith('Leeds')]\n",
    "\n",
    "leeds_LSOA.head()  # checking if the clipping has been done successfully "
   ]
  },
  {
   "cell_type": "code",
   "execution_count": null,
   "id": "62caa303-b86c-4e8c-a742-89f67581b40b",
   "metadata": {},
   "outputs": [],
   "source": [
    "leeds_LSOA.info()  # Getting the overall summary of Leeds LSOA shapefile\n",
    "\n",
    "                   # Here Leeds LSOA has 482 entries with data types of float, geometry, integer and string. The shapefile occupies 41.4+ KB of space"
   ]
  },
  {
   "cell_type": "code",
   "execution_count": null,
   "id": "41bdaf32-43b7-40c9-8c8d-2d5549cd7aa0",
   "metadata": {},
   "outputs": [],
   "source": [
    "leeds_LSOA.explore()    # visualissing how Leeds LSOA boundaries look like in space and also if demarcation is done at LSOA level"
   ]
  },
  {
   "cell_type": "code",
   "execution_count": null,
   "id": "f1cc06d8-bf17-4390-a24c-c5d5ac299d8e",
   "metadata": {},
   "outputs": [],
   "source": [
    "# Before merging the Leeds LSOA shapefile to Leeds socio-economic variables, duplicates or unnecessary columns should be removed from the shapefile\n",
    "leeds_LSOA.drop(columns =['OBJECTID','LSOA11NM','BNG_E','BNG_N','LONG_','LAT','Shape_Leng','GlobalID'], inplace=True) # Dropping duplicates or unnecessary columns\n",
    "\n",
    "leeds_LSOA.head()  # Checking if the operation is successful"
   ]
  },
  {
   "cell_type": "markdown",
   "id": "83852e23-2a20-48d5-87b0-3c3285fcd1b8",
   "metadata": {},
   "source": [
    "##### Joining a non spatial (leeds socio-economic variables) dataset to a  spatial (leeds LSOA) shapefile"
   ]
  },
  {
   "cell_type": "code",
   "execution_count": null,
   "id": "69eb6390-5938-4e28-bfb5-762145d57e5c",
   "metadata": {},
   "outputs": [],
   "source": [
    "#Joining a non spatial (leeds socio-economic variables) dataset to a spatial(leeds LSOA) dataset\n",
    "leeds_deprivation = pd.merge(leeds_LSOA, leeds_variables,  left_on='LSOA11CD', right_on='LSOA_Code', how='left')\n",
    "\n",
    "leeds_deprivation.head()    # Checking if the joining is successful\n",
    "\n",
    "                            # The joining is done successfully, however, the columns of LSOA11CD and LSOA_Code seems to represent the same thing.\n",
    "                            # One column should be dropped."
   ]
  },
  {
   "cell_type": "code",
   "execution_count": null,
   "id": "431c21d1-33e3-4f90-b663-13f64b1e2f35",
   "metadata": {},
   "outputs": [],
   "source": [
    "leeds_deprivation.columns  # understanding what columns are included in the leeds deprivation file"
   ]
  },
  {
   "cell_type": "code",
   "execution_count": null,
   "id": "7d606f63-b8cb-4b6a-b152-a6018bea593e",
   "metadata": {},
   "outputs": [],
   "source": [
    "leeds_deprivation.drop(columns =['LSOA11CD'], inplace=True)   # dropping the duplicate column which gives same information\n",
    "\n",
    "leeds_deprivation.head() # checking if the operation is done successful"
   ]
  },
  {
   "cell_type": "code",
   "execution_count": null,
   "id": "0fd880cb-e74f-4dd7-b599-9f3f2840967f",
   "metadata": {},
   "outputs": [],
   "source": [
    "# mapping the Leeds deprivation index to get a picture of how the data looks like in space\n",
    "leeds_deprivation.explore('deprivation_index', cmap='Reds_r')  # smaller numbers = less deprivation"
   ]
  },
  {
   "cell_type": "markdown",
   "id": "061df4f2-177c-409c-8dd6-b172f18bef56",
   "metadata": {},
   "source": [
    "### Data Visualisation"
   ]
  },
  {
   "cell_type": "markdown",
   "id": "b0741230-24f0-4d35-892a-8636d45059ed",
   "metadata": {},
   "source": [
    "#### non-spatial data visualisation"
   ]
  },
  {
   "cell_type": "markdown",
   "id": "45a02cf4-5906-41fc-ac32-512785a185ad",
   "metadata": {},
   "source": [
    "##### Using pairwise scatter plot"
   ]
  },
  {
   "cell_type": "code",
   "execution_count": null,
   "id": "b8d1b75b-a737-46bc-9b71-f50d5bf09dd4",
   "metadata": {},
   "outputs": [],
   "source": [
    "leeds_variables.head() # Re-checking what is in Leeds variable dataset"
   ]
  },
  {
   "cell_type": "code",
   "execution_count": null,
   "id": "1809cb2d-9c3f-4960-9786-63a24cb451f7",
   "metadata": {},
   "outputs": [],
   "source": [
    "leeds_variables.drop(columns =['% unemployed','% no car','% overcrowded',\n",
    "                               '% lone parents','% low class','% social rent'],\n",
    "                     inplace=True) # Dropping the original percentage variables since i will only be visualising standardised percentage variables\n",
    "\n",
    "\n",
    "leeds_variables.head() # Checking if the operation is successful\n"
   ]
  },
  {
   "cell_type": "code",
   "execution_count": null,
   "id": "52a8f2b5-dc5c-43bb-a304-f45dda2f4c78",
   "metadata": {},
   "outputs": [],
   "source": [
    "# Despite these variables being quotated standardised percentages, they will be remaned to just percentages for easier readability\n",
    "\n",
    "new_column_names = {\n",
    "    'std_% unemployed': '% unemployed',\n",
    "    'std_% no car': '% no car',\n",
    "    'std_% overcrowded': '% overcrowded',           # Renaming columns of variables\n",
    "    'std_% lone parents': '% lone parents',\n",
    "    'std_% low class': '% low class',\n",
    "    'std_% social rent': '% social rent',\n",
    "    \n",
    "}\n",
    "\n",
    "leeds_variables.rename(columns=new_column_names, inplace=True) # Renaming the columns in leeds_variables according to the mappings in 'new_column_names'\n",
    "\n",
    "leeds_variables.head()   # checking if the operation is successful"
   ]
  },
  {
   "cell_type": "code",
   "execution_count": null,
   "id": "b25b9fc5-b1d0-426a-9d4d-82d0b571384d",
   "metadata": {},
   "outputs": [],
   "source": [
    "# Plotting pairwise scatter to explore relationships between standardized variables and the deprivation index\n",
    "\n",
    "\n",
    "selected_variables = ['% unemployed', '% no car', '% overcrowded',\n",
    "                       '% lone parents', '% low class', '% social rent',       # Selecting variables of interest to be mapped\n",
    "                       'deprivation_index']\n",
    "\n",
    "# Customizing the color palette and figure size for better visualization\n",
    "pairplot = sns.pairplot(leeds_variables[selected_variables],\n",
    "                       palette='colorblind',  # Using a colorblind-friendly palette\n",
    "                       height=2.5, aspect=1.2)  # Adjusting height and aspect ratio for better readability\n",
    "\n",
    "# Mapping density plots to the lower triangle (off-diagonal plots)\n",
    "pairplot.map_lower(sns.kdeplot, cmap=\"cividis\")  # Using KDE plot with cividis, a colour-blind colormap\n",
    "\n",
    "\n",
    "# Customizing diagonal plots (histograms or KDE plots) for better visualization\n",
    "pairplot.map_diag(sns.histplot, kde=True, linewidth=0.5, edgecolor='k')  # Adding KDE lines and border\n",
    "\n",
    "# Mapping scatter plots to the upper triangle (off-diagonal plots)\n",
    "pairplot.map_upper(sns.scatterplot, s=50, edgecolors='k', linewidths=0.5, alpha=0.7)\n",
    "\n",
    "# Adding correlation coefficients above the scatterplots\n",
    "def annotate_corr(x, y, **kwargs):       # Define function with x, y, and kwargs.\n",
    "     r = round(x.corr(y), 2)             # Calculate and round correlation coefficient, r.\n",
    "     ax = plt.gca()                      # Get current Axes instance for annotation.\n",
    "     ax.annotate(f\"r = {r}\", xy=(0.5, 0.95), xycoords=ax.transAxes, ha='center', fontsize=17)   # Annotate Axes with correlation.\n",
    "\n",
    "pairplot.map_upper(annotate_corr)\n",
    "\n",
    "# Accessing the underlying axes objects\n",
    "ax = pairplot.axes.flat  # This flattens the multi-dimensional array of axes into a single list\n",
    "\n",
    "# Increase font size and set labels for x and y axes\n",
    "for a in ax:\n",
    "    a.xaxis.label.set_fontsize(17)  # Adjusting font size for x-axis labels\n",
    "    a.yaxis.label.set_fontsize(17)  # Adjusting font size for y-axis labels\n",
    "\n",
    "# Adjusting top margin for title\n",
    "plt.subplots_adjust(top=0.93)  # Adjusting the top margin to make space for the title\n",
    "\n",
    "# Plotting title of the plot and adjusting fontsize\n",
    "plt.suptitle(\"Pair Plot of Socio-economic Variables and the Calculated Deprivation Index for Leeds LSOAs\", fontsize=28) \n",
    "\n",
    "# Displaying the pairplot\n",
    "plt.show()\n"
   ]
  },
  {
   "cell_type": "markdown",
   "id": "81de5162-d173-4a40-8c47-52b67f4bdddb",
   "metadata": {},
   "source": [
    "#### Description of data visualisation choice made\n",
    "\n",
    "To effectively communicate insights about the relationship between the deprivation index and socio-economic variables in Leeds to welfare stakeholders, the pairwise scatter plot is used and it is a widely used technique for exploring relationships between multiple variables (Chambers, 1983). The use of a colour blindness palette ensures that the visualization is accessible to individuals with colour vision deficiencies (Harrower and Brewer, 2003). The mid-histogram plot divides the plot into two parts, allowing for a clear separation of the distribution and correlation components (Friendly, 2002).\n",
    "\n",
    "In the lower triangle, density plots are mapped using a colour-blind colour scheme, providing an intuitive representation of the variable distributions (Wilkinson, 2012). In the upper triangle, scatter plots are accompanied by correlation coefficients, which quantify the strength and direction of the relationships between variables (Lee Rodgers and Nicewander, 1988).\n",
    "\n",
    "For welfare stakeholders, the combination of density and scatter plots is desirable as it provides a comprehensive understanding of the data. Density plots offer a clear visualization of the distribution of each variable, allowing stakeholders to identify potential outliers or skewness. Scatter plots, on the other hand, enable the detection of patterns and relationships between variables, which can inform decision-making and policy formulation related to socio-economic deprivation in Leeds."
   ]
  },
  {
   "cell_type": "markdown",
   "id": "fe7ec136-9926-460a-8b15-18e18c66a021",
   "metadata": {},
   "source": [
    "#### Spatial data visualisation"
   ]
  },
  {
   "cell_type": "markdown",
   "id": "3d9b13d9-20f7-4cb9-9e8f-2b9ef98d6c16",
   "metadata": {},
   "source": [
    "##### Using Choropleth mapping to visualise deprived areas in Leeds"
   ]
  },
  {
   "cell_type": "code",
   "execution_count": null,
   "id": "10495d06-9c85-49d9-920c-2ae4b0e49056",
   "metadata": {},
   "outputs": [],
   "source": [
    "leeds_wards.head()  # Checking leeds wards shapefile that would be used to add context to the visualisation"
   ]
  },
  {
   "cell_type": "code",
   "execution_count": null,
   "id": "2d14c66b-9066-467a-90b9-99f5938bfe60",
   "metadata": {},
   "outputs": [],
   "source": [
    "print(leeds_wards.crs) # Checking the crs if it is British National Grid"
   ]
  },
  {
   "cell_type": "code",
   "execution_count": null,
   "id": "9d803e7c-37ec-4aa5-a018-b37b2f485e0f",
   "metadata": {},
   "outputs": [],
   "source": [
    "## Visualising deprivation pattern based on socio-economic variables in Leeds, UK\n",
    "\n",
    "f, ax = plt.subplots(1, figsize=(16, 10))   # Creating a figure with a single subplot of specific size\n",
    "\n",
    "leeds_wards.plot(color='none', edgecolor='black', linewidth=2.5, ax=ax)   # Plotting Leeds wards to aid in visualising neighbourhood patterns\n",
    "leeds_wards.boundary.plot(color='black', linewidth=0.3, ax=ax)\n",
    "\n",
    "leeds_deprivation.plot(column='deprivation_index',  # Plotting the 'deprivation index' column of socio-economic variables for Leeds\n",
    "                                legend=True,        # Creating a legend for Leeds deprivation score\n",
    "                                cmap='flare',       # Setting the blindness colour map\n",
    "                                scheme='quantiles', # Applying quantile classification scheme\n",
    "                                edgecolor='black',  # Setting the edge colour of the plotted geometries to black\n",
    "                                linewidth=0.03,     # Setting the width of the lines used for plotting\n",
    "                                ax=ax)              # Specifying the axes on which the plot will be drawn \n",
    "\n",
    "\n",
    "ctx.add_basemap(ax, crs=27700, alpha=0.5)   # Adding basemap with transparency\n",
    "                                            # Adjust alpha parameter by 50% for transparency\n",
    "\n",
    "\n",
    "\n",
    "legend = ax.get_legend()                  # Retrieving the legend associated with the Leeds plot.\n",
    "legend.set_title('Deprivation index')     # Setting the title of the legend\n",
    "legend.get_frame().set_edgecolor('black') # Setting the color of the legend frame\n",
    "legend.set_bbox_to_anchor((0.2, 0.23))    # Moving the legend to the bottom left within the plot\n",
    "\n",
    "for handle in legend.legendHandles:\n",
    "    handle.set_marker('s')                # Setting legend marker to rectangle\n",
    "\n",
    "\n",
    "scalebar = ScaleBar(1, location='lower right')  # Creating a scale bar with a length of 1 pixel = 1 unit, \n",
    "                                                # positioned at the lower right corner of the plot.\n",
    "ax.add_artist(scalebar)                         # Adding the scale bar to the plot\n",
    "\n",
    "\n",
    "ax.annotate('N', xy=(0.05, 0.95), xycoords='axes fraction',    # Annotating the letter 'N' at the specified position on the axes.\n",
    "            xytext=(0.045, 1.01), textcoords='axes fraction',  # Specifying the position for the text 'N' annotation\n",
    "            arrowprops=dict(color='black', arrowstyle='<-'))   # Setting the properties of the arrow used in the annotation.\n",
    "\n",
    "ax.grid(False)              # Removing the grid lines from the plot\n",
    "\n",
    "# Plot title and axis labels\n",
    "plt.title('Deprivation map for Lower Super Output Areas in Leeds derived from 2011 census data', fontsize=13)  # Set the label for the title with fontsize 13\n",
    "plt.ylabel('Latitude [meters]', fontsize=12)   # Set the label for the y-axis with fontsize 12\n",
    "plt.xlabel('Longitude [meters]', fontsize=12)  # Set the label for the x-axis with fontsize 12\n",
    "\n",
    "# Plot labels with buffer\n",
    "for idx, row in leeds_wards.iterrows():  # Iterate over each row in the 'leeds_wards' GeoDataFrame\n",
    "    label = row['name']                  # Retrieve the value from the 'name' column as the label for annotation\n",
    "    centroid = row['geometry'].centroid  # Calculate the centroid of the geometry associated with the row\n",
    "    ax.text(centroid.x, centroid.y, label, fontsize=8, ha='center', va='center', color='white', \n",
    "            path_effects=[path_effects.withStroke(linewidth=2, foreground='black')])         # Add text annotation to the plot at the centroid coordinates\n",
    "\n",
    "plt.show()      # Displaying the plot"
   ]
  },
  {
   "cell_type": "markdown",
   "id": "480f6d6c-6d73-4767-8003-4de7f4053f85",
   "metadata": {},
   "source": [
    "#### Description of data visualisation choice made\n",
    "\n",
    "The visualization aims to effectively communicate the spatial patterns of socio-economic deprivation across LSOAs in Leeds to social welfare stakeholders. A choropleth mapping technique is employed, which is widely used for visualizing geographic data and highlighting spatial variations (Brewer and Pickle, 2002). The map uses a quantile classification scheme with five classes, ensuring an equal distribution of LSOAs across the classes and effectively capturing the range of deprivation levels (Slocum et al., 2022).\n",
    "\n",
    "The colour scheme chosen is the \"blindness\" colour ramp where darker shades represent higher levels of deprivation and lighter shades represent lower levels. This diverging colour scheme effectively conveys the contrasting levels of deprivation and is perceptually optimized for both colour vision deficiencies and typical colour vision (Harrower and Brewer, 2003). The map is overlaid with Leeds ward boundaries, providing spatial context and enabling easier interpretation of the patterns by associating them with familiar administrative units.\n",
    "\n",
    "To enhance readability and prevent cluttering, a small buffer has been added around the ward names and a base map with 50% transparency has been included to provide geographic context without overwhelming the thematic data (Buckley, 2012). Other elements such as a scale bar, north arrow, and a legend, have been incorporated to aid in map interpretation and comply with cartographic conventions (Slocum et al., 2022). Grid lines have been removed to declutter the map and axes have been annotated for clarity. The boundary of Leeds has been highlighted to delineate the study area and text elements have been adjusted to improve readability."
   ]
  },
  {
   "cell_type": "markdown",
   "id": "9f246910-0a9c-4e6a-beeb-44f6ae578380",
   "metadata": {},
   "source": [
    "#### Interpretation of results\n",
    "\n",
    "The pairwise plot suggests unemployment, lone parent households, and social renting housing are the most influential factors contributing to socio-economic deprivation in Leeds, as evidenced by their high correlation coefficients with the deprivation index (0.92, 0.85, and 0.85, respectively). This interpretation is supported by the shapes of the density plots, which provide a visual representation of the distributions of these variables. These findings align with previous research that has established strong links between unemployment, single-parent households, and social housing with increased levels of deprivation. For instance, a study by Friedman and Rosenbaum (2004) found that unemployment and lack of economic resources are among the primary drivers of socio-economic deprivation, as they limit access to essential goods and services. Furthermore, the high correlation between social renting housing and deprivation is consistent with the findings of Burrows (1999), who demonstrated that areas with a higher concentration of social housing often experience higher levels of deprivation due to the complex interplay of various socio-economic factors, such as low-income levels, limited educational attainment, and poor health outcomes.\n",
    "\n",
    "The map reveals the most deprived areas with deprivation index values ranging from 1.07 to 18.26 are concentrated in the city center and inner-city regions. Specific areas of concern include Burmantofts, Gipton and Harehills, Killingbeck and Seacroft, and Richmond Hill located in the eastern and southeastern parts of the city. These neighbourhoods likely face significant challenges related to poverty, unemployment, poor housing conditions, and limited access to resources and services, as highlighted by a study from Norman (2010). In contrast, the least deprived areas with deprivation index values ranging from -7.18 to -4.3 are predominantly located in the outer suburbs to the north of Leeds, including Adel and Wharfedale, Alwoodley, and Harewood, which tend to have higher income levels, better housing conditions, and better access to amenities, according to findings from Higgs et al. (2015)."
   ]
  },
  {
   "cell_type": "markdown",
   "id": "5bc58420-2601-4024-933b-2ac1f808e216",
   "metadata": {},
   "source": [
    "#### Conclusion\n",
    "\n",
    "The spatial analysis of socio-economic deprivation in Leeds provides invaluable insights for social welfare stakeholders to effectively target interventions and allocate resources. By understanding the geographic concentrations of deprivation in access to resources, stakeholders can design tailored programs that address the specific needs of disadvantaged communities and ultimately promoting inclusive development and social equity.\n"
   ]
  },
  {
   "cell_type": "markdown",
   "id": "5e7f93b1-85e8-44f4-b505-f7f40652f377",
   "metadata": {},
   "source": [
    "## References\n",
    "\n",
    "Brewer, C.A. and Pickle, L. 2002. Evaluation of methods for classifying epidemiological data on choropleth maps in series. Annals of the Association of American Geographers. 92(4), pp.662-681.\n",
    "\n",
    "Buckley, A. 2012. Make maps people want to look at: five primary design principles for cartography. ArcUser Winter. pp.46-51.\n",
    "\n",
    "Burrows, R. 1999. Residential mobility and residualisation in social housing in England. Journal of social policy. 28(1), pp.27-52.\n",
    "\n",
    "Carstairs, V. and Morris, R. 1990. Deprivation and health in Scotland. Health bulletin. 48(4), pp.162-175.\n",
    "\n",
    "Chambers, J.M. 1983. Graphical methods for data analysis.  Chapman and Hall/CRC.\n",
    "\n",
    "Friedman, S. and Rosenbaum, E. 2004. Nativity status and racial/ethnic differences in access to quality housing: Does homeownership bring greater parity? Housing Policy Debate. 15(4), pp.865-901.\n",
    "\n",
    "Friendly, M. 2002. Corrgrams: Exploratory displays for correlation matrices. The american statistician. 56(4), pp.316-324.\n",
    "\n",
    "Harrower, M. and Brewer, C.A. 2003. ColorBrewer. org: an online tool for selecting colour schemes for maps. The Cartographic Journal. 40(1), pp.27-37.\n",
    "\n",
    "Higgs, G., Langford, M. and Norman, P. 2015. Accessibility to sport facilities in Wales: A GIS-based analysis of socio-economic variations in provision. Geoforum. 62, pp.105-120.\n",
    "\n",
    "Lee Rodgers, J. and Nicewander, W.A. 1988. Thirteen ways to look at the correlation coefficient. The American Statistician. 42(1), pp.59-66.\n",
    "\n",
    "Noble, M., Wright, G., Smith, G. and Dibben, C. 2006. Measuring multiple deprivation at the small-area level. Environment and planning A. 38(1), pp.169-185.\n",
    "\n",
    "Norman, P. 2010. Identifying change over time in small area socio-economic deprivation. Applied Spatial Analysis and Policy. 3, pp.107-138.\n",
    "\n",
    "Pampalon, R., Hamel, D., Gamache, P. and Raymond, G. 2009. A deprivation index for health planning in Canada. Chronic Dis Can. 29(4), pp.178-191.\n",
    "\n",
    "Slocum, T.A., McMaster, R.B., Kessler, F.C. and Howard, H.H. 2022. Thematic cartography and geovisualization.  CRC Press.\n",
    "\n",
    "Talen, E. and Anselin, L. 1998. Assessing spatial equity: an evaluation of measures of accessibility to public playgrounds. Environment and planning A. 30(4), pp.595-613.\n",
    "\n",
    "Townsend, P. 1987. Deprivation. Journal of social policy. 16(2), pp.125-146.\n",
    "\n",
    "Townsend, P., Phillimore, P. and Beattie, A. 1988. Health and deprivation: inequality and the North.  Routledge.\n",
    "\n",
    "Vyas, S. and Kumaranayake, L. 2006. Constructing socio-economic status indices: how to use principal components analysis. Health policy and planning. 21(6), pp.459-468.\n",
    "\n",
    "Wilkinson, L. 2012. The grammar of graphics.  Springer."
   ]
  }
 ],
 "metadata": {
  "kernelspec": {
   "display_name": "Python 3 (ipykernel)",
   "language": "python",
   "name": "python3"
  },
  "language_info": {
   "codemirror_mode": {
    "name": "ipython",
    "version": 3
   },
   "file_extension": ".py",
   "mimetype": "text/x-python",
   "name": "python",
   "nbconvert_exporter": "python",
   "pygments_lexer": "ipython3",
   "version": "3.11.7"
  }
 },
 "nbformat": 4,
 "nbformat_minor": 5
}
